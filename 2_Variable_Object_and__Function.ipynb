{
  "nbformat": 4,
  "nbformat_minor": 0,
  "metadata": {
    "colab": {
      "provenance": [],
      "toc_visible": true,
      "authorship_tag": "ABX9TyPV2172rUkVMgDEni+rz1Zg",
      "include_colab_link": true
    },
    "kernelspec": {
      "name": "python3",
      "display_name": "Python 3"
    },
    "language_info": {
      "name": "python"
    }
  },
  "cells": [
    {
      "cell_type": "markdown",
      "metadata": {
        "id": "view-in-github",
        "colab_type": "text"
      },
      "source": [
        "<a href=\"https://colab.research.google.com/github/KaoThin280/PythonForDataScience/blob/main/2_Variable_Object_and__Function.ipynb\" target=\"_parent\"><img src=\"https://colab.research.google.com/assets/colab-badge.svg\" alt=\"Open In Colab\"/></a>"
      ]
    },
    {
      "cell_type": "code",
      "execution_count": null,
      "metadata": {
        "id": "cycyqG4yCznG"
      },
      "outputs": [],
      "source": []
    },
    {
      "cell_type": "markdown",
      "source": [
        "# Variable"
      ],
      "metadata": {
        "id": "XYRbOWiBDF-d"
      }
    },
    {
      "cell_type": "markdown",
      "source": [
        "variable_name = value"
      ],
      "metadata": {
        "id": "vp2owY8YE38d"
      }
    },
    {
      "cell_type": "code",
      "source": [
        "base_salary = 1000000"
      ],
      "metadata": {
        "id": "STzrbRRaDP0P"
      },
      "execution_count": 1,
      "outputs": []
    },
    {
      "cell_type": "code",
      "source": [
        "base_salary"
      ],
      "metadata": {
        "colab": {
          "base_uri": "https://localhost:8080/"
        },
        "id": "-cbRXLFgDPoZ",
        "outputId": "ad865c25-795e-4416-8a29-45de3630c778"
      },
      "execution_count": 2,
      "outputs": [
        {
          "output_type": "execute_result",
          "data": {
            "text/plain": [
              "1000000"
            ]
          },
          "metadata": {},
          "execution_count": 2
        }
      ]
    },
    {
      "cell_type": "markdown",
      "source": [
        "Calculate with variable"
      ],
      "metadata": {
        "id": "g8f02BayFaC7"
      }
    },
    {
      "cell_type": "code",
      "source": [
        "internship_salary = base_salary"
      ],
      "metadata": {
        "id": "B4uVFrlyDPZo"
      },
      "execution_count": 8,
      "outputs": []
    },
    {
      "cell_type": "code",
      "source": [
        "lv1_employee_salary = base_salary * 2.1"
      ],
      "metadata": {
        "id": "O31lM0LhF076"
      },
      "execution_count": 4,
      "outputs": []
    },
    {
      "cell_type": "code",
      "source": [
        "lv2_employee_salary = base_salary * 3"
      ],
      "metadata": {
        "id": "sPvD98-IF0rP"
      },
      "execution_count": 5,
      "outputs": []
    },
    {
      "cell_type": "code",
      "source": [
        "leadership_salary = base_salary * 4.5"
      ],
      "metadata": {
        "id": "VYhYgnfMF_LB"
      },
      "execution_count": 10,
      "outputs": []
    },
    {
      "cell_type": "code",
      "source": [
        "bonus_rate = .15"
      ],
      "metadata": {
        "id": "TJ4DwdSIGfAG"
      },
      "execution_count": 13,
      "outputs": []
    },
    {
      "cell_type": "code",
      "source": [
        "print(\"intern salary: \",internship_salary * (1 + bonus_rate))\n",
        "print(\"lv1 employee salary: \",lv1_employee_salary * (1 + bonus_rate))\n",
        "print(\"lv2 employee salary: \",lv2_employee_salary * (1 + bonus_rate))\n",
        "print(\"Leader salary: \",leadership_salary * (1 + bonus_rate))"
      ],
      "metadata": {
        "colab": {
          "base_uri": "https://localhost:8080/"
        },
        "id": "Lh83qkhwGFyh",
        "outputId": "bfaa830c-cb05-4563-beff-3039e45ff4e8"
      },
      "execution_count": 17,
      "outputs": [
        {
          "output_type": "stream",
          "name": "stdout",
          "text": [
            "intern salary:  1150000.0\n",
            "lv1 employee salary:  2415000.0\n",
            "lv2 employee salary:  3449999.9999999995\n",
            "Leader salary:  5175000.0\n"
          ]
        }
      ]
    },
    {
      "cell_type": "code",
      "source": [
        "my_string = \"This is a long string\""
      ],
      "metadata": {
        "id": "NOs4pap5GFto"
      },
      "execution_count": 25,
      "outputs": []
    },
    {
      "cell_type": "code",
      "source": [
        "my_string"
      ],
      "metadata": {
        "colab": {
          "base_uri": "https://localhost:8080/",
          "height": 36
        },
        "id": "KgA8UpueGFlM",
        "outputId": "128de550-2020-4da6-d01b-49750ad45da0"
      },
      "execution_count": 26,
      "outputs": [
        {
          "output_type": "execute_result",
          "data": {
            "text/plain": [
              "'This is a long string'"
            ],
            "application/vnd.google.colaboratory.intrinsic+json": {
              "type": "string"
            }
          },
          "metadata": {},
          "execution_count": 26
        }
      ]
    },
    {
      "cell_type": "code",
      "source": [
        "print(\"original: \",my_string)\n",
        "print(\"Upper: \",my_string.upper())\n",
        "\n",
        "print(\"lower: \",my_string.lower())\n",
        "\n",
        "print(\"title: \",my_string.title())\n",
        "\n",
        "print(\"find: \",my_string.find(\"is a\"))\n",
        "\n",
        "print(\"replace: \",my_string.replace(\"long\", \"short replaced\"))\n",
        "\n",
        "print(\"split: \",my_string.split())\n",
        "\n",
        "print(\"startswith: \",my_string.startswith(\"This\"))\n",
        "\n",
        "print(\"endswith: \",my_string.endswith(\"long\"))\n",
        "\n",
        "print(\"strip: \",\"This is\".strip())"
      ],
      "metadata": {
        "colab": {
          "base_uri": "https://localhost:8080/"
        },
        "id": "-tVEVaKrKBoS",
        "outputId": "51a3e1fe-2c93-46a8-86bd-8375a4ee29d5"
      },
      "execution_count": 31,
      "outputs": [
        {
          "output_type": "stream",
          "name": "stdout",
          "text": [
            "original:  This is a long string\n",
            "Upper:  THIS IS A LONG STRING\n",
            "lower:  this is a long string\n",
            "title:  This Is A Long String\n",
            "find:  5\n",
            "replace:  This is a short replaced string\n",
            "split:  ['This', 'is', 'a', 'long', 'string']\n",
            "startswith:  True\n",
            "endswith:  False\n",
            "strip:  This is\n"
          ]
        }
      ]
    },
    {
      "cell_type": "markdown",
      "source": [
        "# Object in Python"
      ],
      "metadata": {
        "id": "1ImvQ3E5DGCy"
      }
    },
    {
      "cell_type": "markdown",
      "source": [
        "Everything in python is an object, a Data Record with fields or an instance of a class"
      ],
      "metadata": {
        "id": "IryczAPLLwOZ"
      }
    },
    {
      "cell_type": "code",
      "source": [
        "number_var = 999\n",
        "string_var = \"Hello world\""
      ],
      "metadata": {
        "id": "QjkSui9_L7yY"
      },
      "execution_count": 32,
      "outputs": []
    },
    {
      "cell_type": "code",
      "source": [
        "1000"
      ],
      "metadata": {
        "colab": {
          "base_uri": "https://localhost:8080/"
        },
        "id": "-JKSDuW7DQXq",
        "outputId": "e55da89f-35a7-4e38-fac3-b02cba27f01e"
      },
      "execution_count": 33,
      "outputs": [
        {
          "output_type": "execute_result",
          "data": {
            "text/plain": [
              "1000"
            ]
          },
          "metadata": {},
          "execution_count": 33
        }
      ]
    },
    {
      "cell_type": "code",
      "source": [
        "number_var"
      ],
      "metadata": {
        "colab": {
          "base_uri": "https://localhost:8080/"
        },
        "id": "zyE-na6TDQQp",
        "outputId": "a5cd9567-1db8-4590-f89c-7ab64370acb3"
      },
      "execution_count": 34,
      "outputs": [
        {
          "output_type": "execute_result",
          "data": {
            "text/plain": [
              "999"
            ]
          },
          "metadata": {},
          "execution_count": 34
        }
      ]
    },
    {
      "cell_type": "code",
      "source": [
        "string_var"
      ],
      "metadata": {
        "colab": {
          "base_uri": "https://localhost:8080/",
          "height": 36
        },
        "id": "OWWHQqUuDQKS",
        "outputId": "1b60a953-f3fe-4a93-a31b-82a0a278d29c"
      },
      "execution_count": 35,
      "outputs": [
        {
          "output_type": "execute_result",
          "data": {
            "text/plain": [
              "'Hello world'"
            ],
            "application/vnd.google.colaboratory.intrinsic+json": {
              "type": "string"
            }
          },
          "metadata": {},
          "execution_count": 35
        }
      ]
    },
    {
      "cell_type": "code",
      "source": [
        "print(number_var)\n",
        "print(string_var)"
      ],
      "metadata": {
        "colab": {
          "base_uri": "https://localhost:8080/"
        },
        "id": "sWc5hjdGMN6b",
        "outputId": "1ebd6e0c-bdc0-4677-bb26-9100542dd679"
      },
      "execution_count": 36,
      "outputs": [
        {
          "output_type": "stream",
          "name": "stdout",
          "text": [
            "999\n",
            "Hello world\n"
          ]
        }
      ]
    },
    {
      "cell_type": "code",
      "source": [
        "print"
      ],
      "metadata": {
        "colab": {
          "base_uri": "https://localhost:8080/"
        },
        "id": "a57t26PwMU6S",
        "outputId": "986e636b-fa02-4240-e1c9-056aacb66b5c"
      },
      "execution_count": 37,
      "outputs": [
        {
          "output_type": "execute_result",
          "data": {
            "text/plain": [
              "<function print(*args, sep=' ', end='\\n', file=None, flush=False)>"
            ]
          },
          "metadata": {},
          "execution_count": 37
        }
      ]
    },
    {
      "cell_type": "code",
      "source": [
        "type(\"1000\")"
      ],
      "metadata": {
        "colab": {
          "base_uri": "https://localhost:8080/"
        },
        "id": "iuxsfk7fMN0J",
        "outputId": "229e9adc-5c95-4439-9379-f0385b4a5551"
      },
      "execution_count": 40,
      "outputs": [
        {
          "output_type": "execute_result",
          "data": {
            "text/plain": [
              "str"
            ]
          },
          "metadata": {},
          "execution_count": 40
        }
      ]
    },
    {
      "cell_type": "code",
      "source": [
        "type(string_var)"
      ],
      "metadata": {
        "colab": {
          "base_uri": "https://localhost:8080/"
        },
        "id": "8C4jfHqfNGPo",
        "outputId": "23dec8d5-b60c-40c4-ed4c-08e946b18aa9"
      },
      "execution_count": 41,
      "outputs": [
        {
          "output_type": "execute_result",
          "data": {
            "text/plain": [
              "str"
            ]
          },
          "metadata": {},
          "execution_count": 41
        }
      ]
    },
    {
      "cell_type": "code",
      "source": [
        "type(number_var)\n"
      ],
      "metadata": {
        "colab": {
          "base_uri": "https://localhost:8080/"
        },
        "id": "kPmthcDbNFZ7",
        "outputId": "2ef8e66b-b35a-4ff7-ec0c-32b5877bdf6e"
      },
      "execution_count": 42,
      "outputs": [
        {
          "output_type": "execute_result",
          "data": {
            "text/plain": [
              "int"
            ]
          },
          "metadata": {},
          "execution_count": 42
        }
      ]
    },
    {
      "cell_type": "code",
      "source": [
        "type(1000)"
      ],
      "metadata": {
        "colab": {
          "base_uri": "https://localhost:8080/"
        },
        "id": "7_Nkgj5uMNqX",
        "outputId": "e968db15-44fc-4357-b5c2-e8f407e57da9"
      },
      "execution_count": 43,
      "outputs": [
        {
          "output_type": "execute_result",
          "data": {
            "text/plain": [
              "int"
            ]
          },
          "metadata": {},
          "execution_count": 43
        }
      ]
    },
    {
      "cell_type": "markdown",
      "source": [
        "Variable_name is the name that references an object"
      ],
      "metadata": {
        "id": "PRsYxvL0NsgM"
      }
    },
    {
      "cell_type": "code",
      "source": [
        "first_person = \"This object\" # the first person is pointing to 'This object'\n",
        "id(first_person)"
      ],
      "metadata": {
        "colab": {
          "base_uri": "https://localhost:8080/"
        },
        "id": "nlZqE-swOBdL",
        "outputId": "ab1f2087-5563-43db-cd80-35d6f39ed0ac"
      },
      "execution_count": 44,
      "outputs": [
        {
          "output_type": "execute_result",
          "data": {
            "text/plain": [
              "137897294086768"
            ]
          },
          "metadata": {},
          "execution_count": 44
        }
      ]
    },
    {
      "cell_type": "code",
      "source": [
        "second_person = \"That object\" # the second person is pointing to an other object\n",
        "id(second_person)"
      ],
      "metadata": {
        "colab": {
          "base_uri": "https://localhost:8080/"
        },
        "id": "9zHGuvONOQe4",
        "outputId": "46163efc-27f6-479d-c59a-00bbb32dbdae"
      },
      "execution_count": 45,
      "outputs": [
        {
          "output_type": "execute_result",
          "data": {
            "text/plain": [
              "137897261570480"
            ]
          },
          "metadata": {},
          "execution_count": 45
        }
      ]
    },
    {
      "cell_type": "code",
      "source": [
        "third_person = first_person # the third person is pointing to the same object pointed by the first person\n",
        "id(third_person)"
      ],
      "metadata": {
        "colab": {
          "base_uri": "https://localhost:8080/"
        },
        "id": "31cEh8VLOsCV",
        "outputId": "d0ccf5f9-187d-434a-f783-d70188696dfc"
      },
      "execution_count": 46,
      "outputs": [
        {
          "output_type": "execute_result",
          "data": {
            "text/plain": [
              "137897294086768"
            ]
          },
          "metadata": {},
          "execution_count": 46
        }
      ]
    },
    {
      "cell_type": "markdown",
      "source": [
        "Remember this to manage your data."
      ],
      "metadata": {
        "id": "sfQEThWhPOVT"
      }
    },
    {
      "cell_type": "markdown",
      "source": [
        "*Bonus:"
      ],
      "metadata": {
        "id": "1X1X3yGEPgWi"
      }
    },
    {
      "cell_type": "code",
      "source": [
        "duplicated_print = print"
      ],
      "metadata": {
        "id": "ZVQCbuqkPeSz"
      },
      "execution_count": 47,
      "outputs": []
    },
    {
      "cell_type": "code",
      "source": [
        "duplicated_print(\"Hello world\")"
      ],
      "metadata": {
        "colab": {
          "base_uri": "https://localhost:8080/"
        },
        "id": "7ntBKIyYPnx7",
        "outputId": "c0f18d3e-c57d-465c-e96f-fc2a822696e9"
      },
      "execution_count": 48,
      "outputs": [
        {
          "output_type": "stream",
          "name": "stdout",
          "text": [
            "Hello world\n"
          ]
        }
      ]
    },
    {
      "cell_type": "markdown",
      "source": [
        "# Function"
      ],
      "metadata": {
        "id": "NmIxJI5zQK1f"
      }
    },
    {
      "cell_type": "code",
      "source": [
        "def greeting():\n",
        "  print(\"Hey, what's up!\")"
      ],
      "metadata": {
        "id": "WmCmnQ3iQN83"
      },
      "execution_count": 50,
      "outputs": []
    },
    {
      "cell_type": "code",
      "source": [
        "greeting()"
      ],
      "metadata": {
        "colab": {
          "base_uri": "https://localhost:8080/"
        },
        "id": "591eRu_jRAIs",
        "outputId": "b7f4b875-5d52-4160-8284-18bd47bf3f62"
      },
      "execution_count": 51,
      "outputs": [
        {
          "output_type": "stream",
          "name": "stdout",
          "text": [
            "Hey, what's up!\n"
          ]
        }
      ]
    },
    {
      "cell_type": "code",
      "source": [
        "def salary_calculator(emp_name, level, bonus_rate):\n",
        "  greeting()\n",
        "  print(f\"{emp_name}, your salary this month is:\")\n",
        "  return base_salary * level * (1 + bonus_rate)"
      ],
      "metadata": {
        "id": "VlT-yi3jRGti"
      },
      "execution_count": 67,
      "outputs": []
    },
    {
      "cell_type": "code",
      "source": [
        "employee_name = \"N C T\"\n",
        "level = 3\n",
        "bonus_rate = .23"
      ],
      "metadata": {
        "id": "FflTXb69SDfm"
      },
      "execution_count": 68,
      "outputs": []
    },
    {
      "cell_type": "code",
      "source": [
        "salary_calculator(employee_name, level, bonus_rate)"
      ],
      "metadata": {
        "colab": {
          "base_uri": "https://localhost:8080/"
        },
        "id": "0L_LhmjxSPJa",
        "outputId": "cf342a74-bea3-44aa-a861-b16010eb9ffd"
      },
      "execution_count": 66,
      "outputs": [
        {
          "output_type": "stream",
          "name": "stdout",
          "text": [
            "Hey, what's up!\n",
            "N C T, your salary this month is: .\n"
          ]
        },
        {
          "output_type": "execute_result",
          "data": {
            "text/plain": [
              "3690000.0"
            ]
          },
          "metadata": {},
          "execution_count": 66
        }
      ]
    }
  ]
}