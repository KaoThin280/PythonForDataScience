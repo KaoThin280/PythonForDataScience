{
  "nbformat": 4,
  "nbformat_minor": 0,
  "metadata": {
    "colab": {
      "provenance": [],
      "toc_visible": true,
      "authorship_tag": "ABX9TyMPQ8VNY9Mm9VhT66PbgZFz",
      "include_colab_link": true
    },
    "kernelspec": {
      "name": "python3",
      "display_name": "Python 3"
    },
    "language_info": {
      "name": "python"
    }
  },
  "cells": [
    {
      "cell_type": "markdown",
      "metadata": {
        "id": "view-in-github",
        "colab_type": "text"
      },
      "source": [
        "<a href=\"https://colab.research.google.com/github/KaoThin280/CTDL_GT/blob/main/1_Getting_Started.ipynb\" target=\"_parent\"><img src=\"https://colab.research.google.com/assets/colab-badge.svg\" alt=\"Open In Colab\"/></a>"
      ]
    },
    {
      "cell_type": "markdown",
      "source": [
        "*You can click Run button or use Ctrl/Shift + Enter to run the selected cell*"
      ],
      "metadata": {
        "id": "9wLk-sxjR_eg"
      }
    },
    {
      "cell_type": "code",
      "execution_count": 25,
      "metadata": {
        "colab": {
          "base_uri": "https://localhost:8080/",
          "height": 36
        },
        "id": "J6pMuTivQMTo",
        "outputId": "8884b5c8-151e-49e0-a4a2-020a0558e55e"
      },
      "outputs": [
        {
          "output_type": "execute_result",
          "data": {
            "text/plain": [
              "'This is a text 999'"
            ],
            "application/vnd.google.colaboratory.intrinsic+json": {
              "type": "string"
            }
          },
          "metadata": {},
          "execution_count": 25
        }
      ],
      "source": [
        "\"This is a text 999\""
      ]
    },
    {
      "cell_type": "markdown",
      "source": [
        "# 1. Show results of text/string or number\n",
        "\n"
      ],
      "metadata": {
        "id": "bGq5rfc0Xp4y"
      }
    },
    {
      "cell_type": "markdown",
      "source": [
        "#2. Showing number:"
      ],
      "metadata": {
        "id": "XMwS-QF9XzA-"
      }
    },
    {
      "cell_type": "code",
      "source": [
        "7"
      ],
      "metadata": {
        "colab": {
          "base_uri": "https://localhost:8080/"
        },
        "id": "7hilLUzLQ0vW",
        "outputId": "ac8dc539-30f7-410a-9513-ff4c980ff5f0"
      },
      "execution_count": 26,
      "outputs": [
        {
          "output_type": "execute_result",
          "data": {
            "text/plain": [
              "7"
            ]
          },
          "metadata": {},
          "execution_count": 26
        }
      ]
    },
    {
      "cell_type": "code",
      "source": [
        "2 + 5"
      ],
      "metadata": {
        "colab": {
          "base_uri": "https://localhost:8080/"
        },
        "id": "PhQlN8fxRCwj",
        "outputId": "9c2509ae-8dcd-4775-ffd1-5e0f01cbf8e6"
      },
      "execution_count": 27,
      "outputs": [
        {
          "output_type": "execute_result",
          "data": {
            "text/plain": [
              "7"
            ]
          },
          "metadata": {},
          "execution_count": 27
        }
      ]
    },
    {
      "cell_type": "markdown",
      "source": [
        "*Note that only last output can go out.*"
      ],
      "metadata": {
        "id": "dPz1-cHZTkw8"
      }
    },
    {
      "cell_type": "code",
      "source": [
        "2 + 5\n",
        "7 * 11"
      ],
      "metadata": {
        "colab": {
          "base_uri": "https://localhost:8080/"
        },
        "id": "rhrDub-RTj0c",
        "outputId": "8295b0bf-cfe1-44c7-fa6f-6f7f25e79374"
      },
      "execution_count": 28,
      "outputs": [
        {
          "output_type": "execute_result",
          "data": {
            "text/plain": [
              "77"
            ]
          },
          "metadata": {},
          "execution_count": 28
        }
      ]
    },
    {
      "cell_type": "markdown",
      "source": [
        "# 3. Comment time:"
      ],
      "metadata": {
        "id": "xF33zTFmX6DF"
      }
    },
    {
      "cell_type": "code",
      "source": [
        "\"Is there any text?\" # This is a comment"
      ],
      "metadata": {
        "colab": {
          "base_uri": "https://localhost:8080/",
          "height": 36
        },
        "id": "l2Ck5gcmRvce",
        "outputId": "b9595250-0bc4-4429-bd7e-2a10cf4933bd"
      },
      "execution_count": 34,
      "outputs": [
        {
          "output_type": "execute_result",
          "data": {
            "text/plain": [
              "'Is there any text?'"
            ],
            "application/vnd.google.colaboratory.intrinsic+json": {
              "type": "string"
            }
          },
          "metadata": {},
          "execution_count": 34
        }
      ]
    },
    {
      "cell_type": "markdown",
      "source": [
        "# 4. Print function:"
      ],
      "metadata": {
        "id": "6-FbcD8qX_Vo"
      }
    },
    {
      "cell_type": "code",
      "source": [
        "print(\"This is a text.\")"
      ],
      "metadata": {
        "colab": {
          "base_uri": "https://localhost:8080/"
        },
        "id": "-veGGXthR2m-",
        "outputId": "d2224476-d1e4-4f5b-9542-4a95ca7216f4"
      },
      "execution_count": 30,
      "outputs": [
        {
          "output_type": "stream",
          "name": "stdout",
          "text": [
            "This is a text.\n"
          ]
        }
      ]
    },
    {
      "cell_type": "code",
      "source": [
        "print(7 / 3)"
      ],
      "metadata": {
        "colab": {
          "base_uri": "https://localhost:8080/"
        },
        "id": "Rp0EOvq9UbpE",
        "outputId": "72fafc78-25fb-4551-afa5-359f5e3fe4e7"
      },
      "execution_count": 31,
      "outputs": [
        {
          "output_type": "stream",
          "name": "stdout",
          "text": [
            "2.3333333333333335\n"
          ]
        }
      ]
    },
    {
      "cell_type": "code",
      "source": [
        "print(\"This is 1st line.\")\n",
        "print(\"This is 2nd line.\")"
      ],
      "metadata": {
        "colab": {
          "base_uri": "https://localhost:8080/"
        },
        "id": "BU26whkaUwXG",
        "outputId": "c8e742c0-38db-4e70-ae16-b57e7ae0e5da"
      },
      "execution_count": 32,
      "outputs": [
        {
          "output_type": "stream",
          "name": "stdout",
          "text": [
            "This is 1st line.\n",
            "This is 2nd line.\n"
          ]
        }
      ]
    },
    {
      "cell_type": "markdown",
      "source": [
        "# 5. Variable"
      ],
      "metadata": {
        "id": "yx1AESzFY7CR"
      }
    },
    {
      "cell_type": "code",
      "source": [
        "i = 5\n",
        "f = 0.555"
      ],
      "metadata": {
        "id": "lc0s8d0pU1w0"
      },
      "execution_count": 42,
      "outputs": []
    },
    {
      "cell_type": "code",
      "source": [
        "print(i)\n",
        "print(f)"
      ],
      "metadata": {
        "colab": {
          "base_uri": "https://localhost:8080/"
        },
        "id": "14L4qzpwVBHA",
        "outputId": "fe23aa53-4a87-4786-8956-08cd6ff82512"
      },
      "execution_count": 44,
      "outputs": [
        {
          "output_type": "stream",
          "name": "stdout",
          "text": [
            "5\n",
            "0.555\n"
          ]
        }
      ]
    }
  ]
}